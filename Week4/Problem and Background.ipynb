{
 "cells": [
  {
   "cell_type": "markdown",
   "metadata": {
    "collapsed": true
   },
   "source": [
    "# The Battle of Neighborhoods (Week 1)"
   ]
  },
  {
   "cell_type": "markdown",
   "metadata": {},
   "source": [
    "## Introduction:\n",
    "\n",
    "- This initiative aims to help individuals discover better facilities in their neighborhood. It can help individuals make wise and successful choices about choosing great neighborhoods from numbers in Scarborough, Toranto, from other neighborhoods.\n",
    "\n",
    "- Lots of people are migrating to various states of Canada and needed lots of research for good housing prices and reputated schools for their children. This project is for those people who are looking for better neighborhoods. For ease of accessing to Cafe, School, Super market, medical shops, grocery shops, mall, theatre, hospital, like minded people, etc.\n",
    "\n",
    "- This undertaking is aimed to create an evaluation of functions for a people migrating to Scarborough to look a first-class neighborhood as a comparative evaluation among neighborhoods. The capabilities encompass median housing price and better faculty in keeping with ratings, crime fees of that specific region, road connectivity, weather conditions, top management for emergency, water resources each freash and waste water and excrement conveyed in sewers and recreational facilities.\n",
    "\n",
    "- This will help people to get awareness of the area and neighborhood before moving to a new city, state, country or place for their work or to start a new fresh life.\n",
    "\n",
    "\n",
    "## Problem Statement:\n",
    "\n",
    "- The major purpose of this project, is to suggest a better neighborhood in a new city for the person who are shiffting there. Social presence in society in terms of like minded people. Connectivity to the airport, bus stand, city center, markets and other daily needs things nearby.\n",
    "\n",
    "1. Sorted list of house in terms of housing prices in a ascending or descending order\n",
    "2. Sorted list of schools in terms of location, fees, rating and reviews\n",
    "\n",
    "\n",
    "## The City Location:\n",
    "- Scarborough is a popular destination for new immigrants in Canada to reside. Therefore, it is perhaps the most assorted and multicultural zones in the Greater Toronto Area, being home to different strict gatherings and spots of love. In spite of the fact that movement has become a hotly debated issue in the course of recent years with more governments looking for additional limitations on settlers and outcasts, the overall pattern of migration into Canada has been one of on the ascent.\n",
    "\n",
    "\n",
    "## Foursquare API:\n",
    "- This undertaking would utilize Foursquare API as its superb information gathering source as it has a data set of millions of spots, particularly their places API which gives the capacity to perform area search, area sharing and insights regarding a business.\n",
    "\n",
    "\n",
    "## Work Flow:\n",
    "- Using credentials of Foursquare API features of near-by places of the neighborhoods would be mined. Due to http request limitations the number of places per neighborhood parameter would reasonably be set to 100 and the radius parameter would be set to 500.\n",
    "\n",
    "\n",
    "## Clustering Approach:\n",
    "- To compare the similarities of two cities, we decided to explore neighborhoods, segment them, and group them into clusters to find similar neighborhoods in a big city like New York and Toronto. To be able to do that, we need to cluster data which is a form of unsupervised machine learning: k-means clustering algorithm\n",
    "\n",
    "\n",
    "## Libraries Which are Used to Develop the Project:\n",
    "- Pandas: For creating and manipulating dataframes.\n",
    "\n",
    "- Folium: Python visualization library would be used to visualize the neighborhoods cluster distribution of using interactive leaflet map.\n",
    "\n",
    "- Scikit Learn: For importing k-means clustering.\n",
    "\n",
    "- JSON: Library to handle JSON files.\n",
    "\n",
    "- XML: To separate data from presentation and XML stores data in plain text format.\n",
    "\n",
    "- Geocoder: To retrieve Location Data.\n",
    "\n",
    "- Beautiful Soup and Requests: To scrap and library to handle http requests.\n",
    "\n",
    "- Matplotlib: Python Plotting Module."
   ]
  },
  {
   "cell_type": "code",
   "execution_count": null,
   "metadata": {},
   "outputs": [],
   "source": []
  }
 ],
 "metadata": {
  "kernelspec": {
   "display_name": "Python 3",
   "language": "python",
   "name": "python3"
  },
  "language_info": {
   "codemirror_mode": {
    "name": "ipython",
    "version": 3
   },
   "file_extension": ".py",
   "mimetype": "text/x-python",
   "name": "python",
   "nbconvert_exporter": "python",
   "pygments_lexer": "ipython3",
   "version": "3.6.12"
  }
 },
 "nbformat": 4,
 "nbformat_minor": 1
}
